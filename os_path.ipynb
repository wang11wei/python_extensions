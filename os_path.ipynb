{
 "cells": [
  {
   "cell_type": "markdown",
   "source": [
    "## os.path.abspath"
   ],
   "metadata": {
    "collapsed": false,
    "pycharm": {
     "name": "#%% md\n"
    }
   }
  },
  {
   "cell_type": "code",
   "execution_count": 10,
   "metadata": {
    "collapsed": true,
    "pycharm": {
     "is_executing": false
    }
   },
   "outputs": [
    {
     "name": "stdout",
     "text": [
      "E:\\PyWrokspace\\python_repo\nE:\\PyWrokspace\nTrue\n"
     ],
     "output_type": "stream"
    }
   ],
   "source": [
    "import os\n",
    "\n",
    "# 返回当前路径的绝对地址\n",
    "# ！！！在 jupyter 中会输出 jupyter workspace 的路径\n",
    "print(os.path.abspath(\".\"))\n",
    "# 返回当前路径的上一级的绝对地址\n",
    "print(os.path.abspath(\"..\"))\n",
    "\n",
    "# 判断当前路径下有没有该文件夹\n",
    "path = os.path.abspath(\"./python_extensions\")\n",
    "print(os.path.exists(path))"
   ]
  },
  {
   "cell_type": "code",
   "execution_count": null,
   "outputs": [],
   "source": [
    "\n"
   ],
   "metadata": {
    "collapsed": false,
    "pycharm": {
     "name": "#%%\n"
    }
   }
  }
 ],
 "metadata": {
  "kernelspec": {
   "display_name": "Python 3",
   "language": "python",
   "name": "python3"
  },
  "language_info": {
   "codemirror_mode": {
    "name": "ipython",
    "version": 2
   },
   "file_extension": ".py",
   "mimetype": "text/x-python",
   "name": "python",
   "nbconvert_exporter": "python",
   "pygments_lexer": "ipython2",
   "version": "2.7.6"
  },
  "pycharm": {
   "stem_cell": {
    "cell_type": "raw",
    "source": [],
    "metadata": {
     "collapsed": false
    }
   }
  }
 },
 "nbformat": 4,
 "nbformat_minor": 0
}