{
 "cells": [
  {
   "cell_type": "markdown",
   "metadata": {
    "collapsed": true,
    "pycharm": {
     "name": "#%% md\n"
    }
   },
   "source": [
    "检测路径下的文件是否发生变化，可以实现一些自动化操作。\n",
    "\n",
    "两个教程：\n",
    "1. [Super quick Python automation ideas](https://www.youtube.com/watch?v=qbW6FRbaSl0)\n",
    "2. [python watchdog 库使用](https://www.jianshu.com/p/1b8560df595a)\n"
   ]
  }
 ],
 "metadata": {
  "kernelspec": {
   "display_name": "Python 3",
   "language": "python",
   "name": "python3"
  },
  "language_info": {
   "codemirror_mode": {
    "name": "ipython",
    "version": 2
   },
   "file_extension": ".py",
   "mimetype": "text/x-python",
   "name": "python",
   "nbconvert_exporter": "python",
   "pygments_lexer": "ipython2",
   "version": "2.7.6"
  }
 },
 "nbformat": 4,
 "nbformat_minor": 0
}