{
 "cells": [
  {
   "cell_type": "markdown",
   "source": [
    "# datetime\n",
    "\n",
    "日期处理。\n",
    "\n",
    "[参考链接](https://www.cnblogs.com/huigebj/p/11259449.html)\n",
    "\n",
    "datetime模块用于是date和time模块的合集，datetime有两个常量：\n",
    "- datetime.MAXYEAR = 9999\n",
    "- datetime.MINYEAR = 1\n",
    "\n",
    "datetime模块定义了5个类，分别是：\n",
    "1. datetime.date：表示日期的类\n",
    "2. datetime.datetime：表示日期时间的类\n",
    "3. datetime.time：表示时间的类\n",
    "4. datetime.timedelta：表示时间间隔，即两个时间点的间隔\n",
    "5. datetime.tzinfo：时区的相关信息"
   ],
   "metadata": {
    "collapsed": false,
    "pycharm": {
     "name": "#%% md\n"
    }
   }
  },
  {
   "cell_type": "code",
   "execution_count": 49,
   "metadata": {
    "collapsed": true,
    "pycharm": {
     "is_executing": false
    }
   },
   "outputs": [],
   "source": [
    "import datetime\n",
    "import time"
   ]
  },
  {
   "cell_type": "markdown",
   "source": [
    "## 1. datetime.date类"
   ],
   "metadata": {
    "collapsed": false,
    "pycharm": {
     "name": "#%% md\n"
    }
   }
  },
  {
   "cell_type": "code",
   "execution_count": 63,
   "outputs": [
    {
     "name": "stdout",
     "text": [
      "2020-07-10\nFri Jul 10 00:00:00 2020\n"
     ],
     "output_type": "stream"
    }
   ],
   "source": [
    "# 指定 today\n",
    "today = datetime.date(year=2020, month=7, day=10)\n",
    "\n",
    "# 返回year-month-day\n",
    "print(today)\n",
    "\n",
    "print(today.ctime())"
   ],
   "metadata": {
    "collapsed": false,
    "pycharm": {
     "name": "#%%\n",
     "is_executing": false
    }
   }
  },
  {
   "cell_type": "markdown",
   "source": [
    "datetime.date.fromtimestamp(timestamp),\n",
    " - 根据给定的时间戮，返回一个date对象；\n",
    " - datetime.date.today()作用相同\n",
    "\n",
    "[timestamp 转换](https://tool.lu/timestamp/)"
   ],
   "metadata": {
    "collapsed": false,
    "pycharm": {
     "name": "#%% md\n"
    }
   }
  },
  {
   "cell_type": "code",
   "execution_count": 33,
   "outputs": [
    {
     "name": "stdout",
     "text": [
      "2020-07-10\n2020-07-10\n"
     ],
     "output_type": "stream"
    }
   ],
   "source": [
    "today_timestamp = 1594389205    # 2020-07-10\n",
    "\n",
    "# 返回当前日期\n",
    "today_date = datetime.date.today()\n",
    "\n",
    "print(datetime.date.fromtimestamp(today_timestamp))\n",
    "print(today_date)"
   ],
   "metadata": {
    "collapsed": false,
    "pycharm": {
     "name": "#%%\n",
     "is_executing": false
    }
   }
  },
  {
   "cell_type": "code",
   "execution_count": 65,
   "outputs": [
    {
     "name": "stdout",
     "text": [
      "(2020, 28, 5)\n2020-07-10\n5\n2020-07-09\n"
     ],
     "output_type": "stream"
    }
   ],
   "source": [
    "# 返回格式如(year，month，day)的元组\n",
    "print(today.isocalendar())\n",
    "\n",
    "# 返回格式如YYYY-MM-DD\n",
    "print(today.isoformat())\n",
    "\n",
    "# 返回给定日期的星期 [1, 7]\n",
    "print(today.isoweekday())\n",
    "\n",
    "# 替换给定日期，但不改变原日期\n",
    "yesterday = datetime.date(2020,7,9)\n",
    "date_replaced = datetime.date.replace(yesterday)\n",
    "print(date_replaced)"
   ],
   "metadata": {
    "collapsed": false,
    "pycharm": {
     "name": "#%%\n",
     "is_executing": false
    }
   }
  },
  {
   "cell_type": "markdown",
   "source": [
    "datetime.date.strftime(format)\n",
    " - 把日期时间按照给定的 format 进行格式化。\n",
    " - 返回的是 str，一般用于命名\n",
    "\n",
    "python中时间日期格式化符号：\n",
    "- %y 两位数的年份表示（00-99）\n",
    "- %Y 四位数的年份表示（000-9999）\n",
    "- %m 月份（01-12）\n",
    "- %d 月内中的一天（0-31）\n",
    "- %a 本地简化星期名称\n",
    "- %A 本地完整星期名称\n",
    "- %b 本地简化的月份名称\n",
    "- %B 本地完整的月份名称\n",
    "- %c 本地相应的日期表示和时间表示\n",
    "- %j 年内的一天（001-366）\n",
    "- %p 本地A.M.或P.M.的等价符\n",
    "- %U 一年中的星期数（00-53）星期天为星期的开始\n",
    "- %w 星期（0-6），星期天为星期的开始\n",
    "- %W 一年中的星期数（00-53）星期一为星期的开始\n",
    "- %x 本地相应的日期表示\n",
    "- %X 本地相应的时间表示\n",
    "- %Z 当前时区的名称\n",
    "- %% %号本身"
   ],
   "metadata": {
    "collapsed": false,
    "pycharm": {
     "name": "#%% md\n"
    }
   }
  },
  {
   "cell_type": "code",
   "execution_count": 67,
   "outputs": [
    {
     "name": "stdout",
     "text": [
      "20200710000000\n"
     ],
     "output_type": "stream"
    }
   ],
   "source": [
    "print(today.strftime(\"%Y%m%d%H%M%S\"))"
   ],
   "metadata": {
    "collapsed": false,
    "pycharm": {
     "name": "#%%\n",
     "is_executing": false
    }
   }
  },
  {
   "cell_type": "code",
   "execution_count": 68,
   "outputs": [
    {
     "name": "stdout",
     "text": [
      "time.struct_time(tm_year=2020, tm_mon=7, tm_mday=10, tm_hour=0, tm_min=0, tm_sec=0, tm_wday=4, tm_yday=192, tm_isdst=-1)\n"
     ],
     "output_type": "stream"
    }
   ],
   "source": [
    "# 返回日期对应的time.struct_time对象\n",
    "print(today.timetuple())\n",
    "\n",
    "# 返回日期的星期\n",
    "print(today.weekday())"
   ],
   "metadata": {
    "collapsed": false,
    "pycharm": {
     "name": "#%%\n",
     "is_executing": false
    }
   }
  },
  {
   "cell_type": "markdown",
   "source": [
    "## time类\n",
    "\n",
    "datetime.time.strftime(format):按照format格式返回时间\n",
    "- %H 24小时制小时数（0-23）\n",
    "- %I 12小时制小时数（01-12）\n",
    "- %M 分钟数（00=59）\n",
    "- %S 秒（00-59）"
   ],
   "metadata": {
    "collapsed": false,
    "pycharm": {
     "name": "#%% md\n"
    }
   }
  },
  {
   "cell_type": "code",
   "execution_count": 12,
   "outputs": [
    {
     "name": "stdout",
     "text": [
      "1 04:38:41\n2 03:38:41\n3 043841\n4 None\n5 None\n"
     ],
     "output_type": "stream"
    }
   ],
   "source": [
    "# 指定时间\n",
    "time_now = datetime.time(4, 38, 41)\n",
    "\n",
    "print(\"1\", time_now)\n",
    "print(\"2\", time_now.replace(3, 38, 41))\n",
    "print(\"3\", time_now.strftime(\"%H%M%S\"))\n",
    "\n",
    "# 返回时区名字\n",
    "print(\"4\", time_now.tzinfo)\n",
    "# 返回时区的时间偏移量\n",
    "print(\"5\", time_now.utcoffset())"
   ],
   "metadata": {
    "collapsed": false,
    "pycharm": {
     "name": "#%%\n",
     "is_executing": false
    }
   }
  },
  {
   "cell_type": "markdown",
   "source": [
    "## datetime类"
   ],
   "metadata": {
    "collapsed": false
   }
  },
  {
   "cell_type": "code",
   "execution_count": 44,
   "outputs": [
    {
     "name": "stdout",
     "text": [
      "1 2020-07-11 04:48:19\n2 Sat Jul 11 04:48:19 2020\n3 2020-07-11 05:11:32.415505\n4 2020-07-11\n5 05:11:32.415505\n6 2020-07-10 21:53:25\n7 2020-07-10 21:53:25\n8 Jul-11-2020 04:48:19\n9 2020-07-11 04:48:19\n"
     ],
     "output_type": "stream"
    }
   ],
   "source": [
    "datetime_today = datetime.datetime(2020, 7, 11, 4, 48, 19)\n",
    "print(\"1\", datetime_today)\n",
    "\n",
    "# 将datetime.datetime类型转化成str类型\n",
    "print(\"2\", datetime_today.ctime())\n",
    "\n",
    "# 返回当前系统时间\n",
    "print(\"3\", datetime.datetime.now())\n",
    "\n",
    "# 返回当前日期时间的日期部分\n",
    "print(\"4\", datetime.datetime.now().date())\n",
    "# 返回当前日期时间的时间部分\n",
    "print(\"5\", datetime.datetime.now().time())\n",
    "\n",
    "today_timestamp = 1594389205\n",
    "print(\"6\", datetime.datetime.fromtimestamp(today_timestamp))\n",
    "print(\"7\", datetime.datetime.replace(datetime.datetime.fromtimestamp(today_timestamp)))\n",
    "\n",
    "# 由日期格式转化为字符串格式\n",
    "datetime_today_str = datetime_today.strftime('%b-%d-%Y %H:%M:%S')\n",
    "print(\"8\", datetime_today_str)\n",
    "# 由字符串格式转化为日期格式\n",
    "print(\"9\", datetime.datetime.strptime(datetime_today_str, '%b-%d-%Y %H:%M:%S'))"
   ],
   "metadata": {
    "collapsed": false,
    "pycharm": {
     "name": "#%% \n",
     "is_executing": false
    }
   }
  },
  {
   "cell_type": "markdown",
   "source": [
    "## timedelta类\n",
    "\n",
    "datetime.datetime.timedelta用于计算两个日期之间的差值"
   ],
   "metadata": {
    "collapsed": false
   }
  },
  {
   "cell_type": "code",
   "execution_count": 62,
   "outputs": [
    {
     "name": "stdout",
     "text": [
      "1 2020-07-11 05:22:18.644108\n",
      "2 2020-07-11 05:22:19.754718\n3 0:00:01.110610\n4 0 1\n5 353\n6 30499200.0\n"
     ],
     "output_type": "stream"
    }
   ],
   "source": [
    "time1=datetime.datetime.now()\n",
    "print(\"1\", time1)\n",
    "time.sleep(1.11)    # 程序休眠 1.11 secs\n",
    "time2=datetime.datetime.now()\n",
    "print(\"2\", time2)\n",
    "\n",
    "print(\"3\", time2 - time1)\n",
    "print(\"4\", (time2 - time1).days, (time2 - time1).seconds)\n",
    "\n",
    "# 或者\n",
    "time1 = datetime.datetime(2016, 10, 20)\n",
    "time2 = datetime.datetime(2015, 11, 2)\n",
    "# 计算天数差值\n",
    "print(\"5\", (time1-time2).days)\n",
    "# 计算两个日期之间相隔的秒数\n",
    "print(\"6\", (time1-time2).total_seconds())"
   ],
   "metadata": {
    "collapsed": false,
    "pycharm": {
     "name": "#%%\n",
     "is_executing": false
    }
   }
  }
 ],
 "metadata": {
  "kernelspec": {
   "display_name": "Python 3",
   "language": "python",
   "name": "python3"
  },
  "language_info": {
   "codemirror_mode": {
    "name": "ipython",
    "version": 2
   },
   "file_extension": ".py",
   "mimetype": "text/x-python",
   "name": "python",
   "nbconvert_exporter": "python",
   "pygments_lexer": "ipython2",
   "version": "2.7.6"
  },
  "pycharm": {
   "stem_cell": {
    "cell_type": "raw",
    "source": [],
    "metadata": {
     "collapsed": false
    }
   }
  }
 },
 "nbformat": 4,
 "nbformat_minor": 0
}