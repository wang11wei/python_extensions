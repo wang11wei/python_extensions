{
 "cells": [
  {
   "cell_type": "markdown",
   "metadata": {
    "collapsed": true,
    "pycharm": {
     "name": "#%% md\n"
    }
   },
   "source": [
    "# time: 时间和日期\n",
    "\n",
    "https://www.runoob.com/python3/python3-date-time.html"
   ]
  },
  {
   "cell_type": "markdown",
   "source": [
    "## 时间戳\n",
    "\n",
    "每个时间戳都以自从 1970 年 1 月 1 日午夜（历元）经过了多长时间来表示。\n",
    "\n",
    "- 时间戳单位最适于做日期运算。\n",
    "- 但是1970年之前的日期就无法以此表示了。\n",
    "- 太遥远的日期也不行，UNIX和Windows只支持到2038年。"
   ],
   "metadata": {
    "collapsed": false
   }
  },
  {
   "cell_type": "code",
   "execution_count": 1,
   "outputs": [
    {
     "name": "stdout",
     "text": [
      "当前时间戳为: 1594416639.9389381\n"
     ],
     "output_type": "stream"
    }
   ],
   "source": [
    "import time\n",
    "\n",
    "# 获取当前时间戳\n",
    "ticks = time.time()\n",
    "print (\"当前时间戳为:\", ticks)"
   ],
   "metadata": {
    "collapsed": false,
    "pycharm": {
     "name": "#%%\n",
     "is_executing": false
    }
   }
  },
  {
   "cell_type": "markdown",
   "source": [
    "## 获取当前时间"
   ],
   "metadata": {
    "collapsed": false,
    "pycharm": {
     "name": "#%% md\n"
    }
   }
  },
  {
   "cell_type": "code",
   "execution_count": 3,
   "outputs": [
    {
     "name": "stdout",
     "text": [
      "本地时间为 : time.struct_time(tm_year=2020, tm_mon=7, tm_mday=11, tm_hour=5, tm_min=34, tm_sec=35, tm_wday=5, tm_yday=193, tm_isdst=0)\n"
     ],
     "output_type": "stream"
    }
   ],
   "source": [
    "ticks = time.time()\n",
    "localtime = time.localtime(ticks)\n",
    "print (\"本地时间为 :\", localtime)"
   ],
   "metadata": {
    "collapsed": false,
    "pycharm": {
     "name": "#%%\n",
     "is_executing": false
    }
   }
  },
  {
   "cell_type": "markdown",
   "source": [
    "## 获取格式化的时间"
   ],
   "metadata": {
    "collapsed": false
   }
  },
  {
   "cell_type": "code",
   "execution_count": 4,
   "outputs": [
    {
     "name": "stdout",
     "text": [
      "本地时间为 : Sat Jul 11 05:35:38 2020\n"
     ],
     "output_type": "stream"
    }
   ],
   "source": [
    "ticks = time.time()\n",
    "localtime = time.asctime(time.localtime(ticks))\n",
    "print (\"本地时间为 :\", localtime)"
   ],
   "metadata": {
    "collapsed": false,
    "pycharm": {
     "name": "#%%\n",
     "is_executing": false
    }
   }
  },
  {
   "cell_type": "markdown",
   "source": [
    "## 格式化日期\n",
    "\n",
    "python中时间日期格式化符号：\n",
    "- %y 两位数的年份表示（00-99）\n",
    "- %Y 四位数的年份表示（000-9999）\n",
    "- %m 月份（01-12）\n",
    "- %d 月内中的一天（0-31）\n",
    "- %a 本地简化星期名称\n",
    "- %A 本地完整星期名称\n",
    "- %b 本地简化的月份名称\n",
    "- %B 本地完整的月份名称\n",
    "- %c 本地相应的日期表示和时间表示\n",
    "- %j 年内的一天（001-366）\n",
    "- %p 本地A.M.或P.M.的等价符\n",
    "- %U 一年中的星期数（00-53）星期天为星期的开始\n",
    "- %w 星期（0-6），星期天为星期的开始\n",
    "- %W 一年中的星期数（00-53）星期一为星期的开始\n",
    "- %x 本地相应的日期表示\n",
    "- %X 本地相应的时间表示\n",
    "- %Z 当前时区的名称\n",
    "- %% %号本身"
   ],
   "metadata": {
    "collapsed": false
   }
  },
  {
   "cell_type": "code",
   "execution_count": 7,
   "outputs": [
    {
     "name": "stdout",
     "text": [
      "2020-07-11 05:38:37\nSat Jul 11 05:38:37 2020\n1594417017.0\n"
     ],
     "output_type": "stream"
    }
   ],
   "source": [
    "\n",
    "print (time.strftime(\"%Y-%m-%d %H:%M:%S\", time.localtime()))\n",
    "print (time.strftime(\"%a %b %d %H:%M:%S %Y\", time.localtime()))\n",
    "\n",
    "# 将格式字符串转换为时间戳\n",
    "time_ = \"2020-07-11 05:36:57\"\n",
    "print (time.mktime(time.strptime(time_,\"%Y-%m-%d %H:%M:%S\")))"
   ],
   "metadata": {
    "collapsed": false,
    "pycharm": {
     "name": "#%%\n",
     "is_executing": false
    }
   }
  },
  {
   "cell_type": "markdown",
   "source": [
    "## 获取某月日历"
   ],
   "metadata": {
    "collapsed": false
   }
  },
  {
   "cell_type": "code",
   "execution_count": 8,
   "outputs": [
    {
     "name": "stdout",
     "text": [
      "以下输出2016年1月份的日历:\n    January 2016\nMo Tu We Th Fr Sa Su\n             1  2  3\n 4  5  6  7  8  9 10\n11 12 13 14 15 16 17\n18 19 20 21 22 23 24\n25 26 27 28 29 30 31\n\n"
     ],
     "output_type": "stream"
    }
   ],
   "source": [
    "import calendar\n",
    "\n",
    "cal = calendar.month(2016, 1)\n",
    "print (\"以下输出2016年1月份的日历:\")\n",
    "print (cal)\n"
   ],
   "metadata": {
    "collapsed": false,
    "pycharm": {
     "name": "#%%\n",
     "is_executing": false
    }
   }
  }
 ],
 "metadata": {
  "kernelspec": {
   "display_name": "Python 3",
   "language": "python",
   "name": "python3"
  },
  "language_info": {
   "codemirror_mode": {
    "name": "ipython",
    "version": 2
   },
   "file_extension": ".py",
   "mimetype": "text/x-python",
   "name": "python",
   "nbconvert_exporter": "python",
   "pygments_lexer": "ipython2",
   "version": "2.7.6"
  },
  "pycharm": {
   "stem_cell": {
    "cell_type": "raw",
    "source": [],
    "metadata": {
     "collapsed": false
    }
   }
  }
 },
 "nbformat": 4,
 "nbformat_minor": 0
}