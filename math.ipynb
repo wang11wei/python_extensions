{
 "cells": [
  {
   "cell_type": "markdown",
   "metadata": {
    "collapsed": true,
    "pycharm": {
     "name": "#%% md\n"
    }
   },
   "source": [
    "## 四舍五入\n",
    "- round()  “四舍五入”， 该函数返回的是一个四舍五入后的的整数\n",
    "    - !!!对 0.5 的判定有问题\n",
    "    - math.round() 已经在 python3 中移除\n",
    "- Math.ceil()  “向上取整”， 即小数部分直接舍去，并向正数部分进1\n",
    "- Math.floor()  “向下取整” ，即小数部分直接舍去"
   ]
  },
  {
   "cell_type": "code",
   "execution_count": 18,
   "outputs": [
    {
     "name": "stdout",
     "text": [
      "[0.1, -0.1, 0.5, -0.5, 0.9, -0.9]\n[1, 0, 1, 0, 1, 0]\n[0, -1, 0, -1, 0, -1]\n[0, 0, 0, 0, 1, -1]\n"
     ],
     "output_type": "stream"
    }
   ],
   "source": [
    "import math\n",
    "import numpy as np\n",
    "a = [0.1, -0.1, 0.5, -0.5, 0.9, -0.9]\n",
    "ceil_ = []\n",
    "floor_ = []\n",
    "round_ = []\n",
    "print(a)\n",
    "for i in a:\n",
    "    ceil_.append(math.ceil(i))\n",
    "    floor_.append(math.floor(i))\n",
    "    round_.append(round(i))\n",
    "print(ceil_)\n",
    "print(floor_)\n",
    "print(round_)"
   ],
   "metadata": {
    "collapsed": false,
    "pycharm": {
     "name": "#%%\n",
     "is_executing": false
    }
   }
  }
 ],
 "metadata": {
  "kernelspec": {
   "display_name": "Python 3",
   "language": "python",
   "name": "python3"
  },
  "language_info": {
   "codemirror_mode": {
    "name": "ipython",
    "version": 2
   },
   "file_extension": ".py",
   "mimetype": "text/x-python",
   "name": "python",
   "nbconvert_exporter": "python",
   "pygments_lexer": "ipython2",
   "version": "2.7.6"
  },
  "pycharm": {
   "stem_cell": {
    "cell_type": "raw",
    "source": [],
    "metadata": {
     "collapsed": false
    }
   }
  }
 },
 "nbformat": 4,
 "nbformat_minor": 0
}